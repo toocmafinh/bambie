{
 "cells": [
  {
   "cell_type": "code",
   "execution_count": 5,
   "metadata": {},
   "outputs": [
    {
     "name": "stdout",
     "output_type": "stream",
     "text": [
      "Connected to database: japanese_learning\n",
      "Test sentence added successfully!\n"
     ]
    }
   ],
   "source": [
    "import mysql.connector\n",
    "\n",
    "try:\n",
    "    conn = mysql.connector.connect(\n",
    "        host=\"localhost\",\n",
    "        user=\"root\",\n",
    "        password=\"1111\",\n",
    "        database=\"japanese_learning\"\n",
    "    )\n",
    "    cursor = conn.cursor()\n",
    "    cursor.execute(\"SELECT DATABASE();\")\n",
    "    db_name = cursor.fetchone()\n",
    "    print(f\"Connected to database: {db_name[0]}\")\n",
    "\n",
    "        # Insert a test sentence\n",
    "    test_sentence = \"test\"\n",
    "    test_english = \"test\"\n",
    "    test_literal = \"test\"\n",
    "    cursor.execute(\n",
    "        \"\"\"\n",
    "        INSERT INTO sentences (sentence, english, literal)\n",
    "        VALUES (%s, %s, %s)\n",
    "        \"\"\",\n",
    "        (test_sentence, test_english, test_literal)\n",
    "    )\n",
    "    conn.commit()\n",
    "    print(\"Test sentence added successfully!\")\n",
    "except mysql.connector.Error as err:\n",
    "    print(f\"Error: {err}\")"
   ]
  },
  {
   "cell_type": "code",
   "execution_count": null,
   "metadata": {},
   "outputs": [],
   "source": []
  }
 ],
 "metadata": {
  "kernelspec": {
   "display_name": ".venv",
   "language": "python",
   "name": "python3"
  },
  "language_info": {
   "codemirror_mode": {
    "name": "ipython",
    "version": 3
   },
   "file_extension": ".py",
   "mimetype": "text/x-python",
   "name": "python",
   "nbconvert_exporter": "python",
   "pygments_lexer": "ipython3",
   "version": "3.13.2"
  }
 },
 "nbformat": 4,
 "nbformat_minor": 2
}
